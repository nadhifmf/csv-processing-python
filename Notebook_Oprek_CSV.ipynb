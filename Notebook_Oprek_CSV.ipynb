{
 "cells": [
  {
   "cell_type": "code",
   "execution_count": null,
   "metadata": {},
   "outputs": [],
   "source": [
    "py -m virtualenv venv"
   ]
  }
 ],
 "metadata": {
  "kernelspec": {
   "display_name": "Python 3.10.5 64-bit",
   "language": "python",
   "name": "python3"
  },
  "language_info": {
   "name": "python",
   "version": "3.10.5"
  },
  "orig_nbformat": 4,
  "vscode": {
   "interpreter": {
    "hash": "6b538d3390a2cef254925c29f93a0e74e911cee3b0915946ae69f5f52238b8cd"
   }
  }
 },
 "nbformat": 4,
 "nbformat_minor": 2
}
